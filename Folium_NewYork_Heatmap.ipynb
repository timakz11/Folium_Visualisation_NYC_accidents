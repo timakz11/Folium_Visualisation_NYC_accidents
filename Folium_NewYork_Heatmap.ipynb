{
 "cells": [
  {
   "cell_type": "markdown",
   "metadata": {},
   "source": [
    "PROJECT: VISUALIZATION OF ACCIDENTS IN NY."
   ]
  },
  {
   "cell_type": "markdown",
   "metadata": {},
   "source": [
    "SUBPROJECT: Creation of Heatmap Based on # Accidents in NY"
   ]
  },
  {
   "cell_type": "markdown",
   "metadata": {},
   "source": [
    "At this subproject I'll try to create heatmap in Folium by showing number of accidents and injuries at the ZIP code level using data from https://data.cityofnewyork.us/NYC-BigApps/NYPD-Motor-Vehicle-Collisions-Summary/m666-sf2m"
   ]
  },
  {
   "cell_type": "markdown",
   "metadata": {},
   "source": [
    "First of all we download necessary libraries to Jupyter notebook"
   ]
  },
  {
   "cell_type": "code",
   "execution_count": 347,
   "metadata": {},
   "outputs": [],
   "source": [
    "import folium\n",
    "from folium.features import CustomIcon\n",
    "from folium.plugins import MarkerCluster\n",
    "from folium.plugins import FastMarkerCluster\n",
    "from folium.plugins import HeatMap\n",
    "import pandas as pd"
   ]
  },
  {
   "cell_type": "markdown",
   "metadata": {},
   "source": [
    "We will use stats from NYPD about Motor Vehicle Collisions. Link is provided in the description section."
   ]
  },
  {
   "cell_type": "code",
   "execution_count": 348,
   "metadata": {
    "collapsed": true
   },
   "outputs": [
    {
     "name": "stderr",
     "output_type": "stream",
     "text": [
      "C:\\Users\\Mi Notebook\\Anaconda3\\lib\\site-packages\\IPython\\core\\interactiveshell.py:2785: DtypeWarning: Columns (3) have mixed types. Specify dtype option on import or set low_memory=False.\n",
      "  interactivity=interactivity, compiler=compiler, result=result)\n"
     ]
    }
   ],
   "source": [
    "df = pd.read_csv(r'C:\\Users\\Mi Notebook\\Downloads\\NYPD_Motor_Vehicle_Collisions.csv', parse_dates = ['DATE', 'TIME'])"
   ]
  },
  {
   "cell_type": "markdown",
   "metadata": {},
   "source": [
    "This data contain all collisions stats starting from 2012 and has 1385920 rows therefore for this project we will use stats only for 2018."
   ]
  },
  {
   "cell_type": "code",
   "execution_count": 349,
   "metadata": {},
   "outputs": [],
   "source": [
    "df18 = df[(df['DATE']>='2018-01-01') & (df['DATE']<'2018-11-01')]"
   ]
  },
  {
   "cell_type": "markdown",
   "metadata": {},
   "source": [
    "Then we do some cleaning of data that contain missing values."
   ]
  },
  {
   "cell_type": "code",
   "execution_count": 350,
   "metadata": {
    "collapsed": true
   },
   "outputs": [
    {
     "name": "stderr",
     "output_type": "stream",
     "text": [
      "C:\\Users\\Mi Notebook\\Anaconda3\\lib\\site-packages\\ipykernel_launcher.py:1: SettingWithCopyWarning: \n",
      "A value is trying to be set on a copy of a slice from a DataFrame\n",
      "\n",
      "See the caveats in the documentation: http://pandas.pydata.org/pandas-docs/stable/indexing.html#indexing-view-versus-copy\n",
      "  \"\"\"Entry point for launching an IPython kernel.\n",
      "C:\\Users\\Mi Notebook\\Anaconda3\\lib\\site-packages\\ipykernel_launcher.py:2: SettingWithCopyWarning: \n",
      "A value is trying to be set on a copy of a slice from a DataFrame\n",
      "\n",
      "See the caveats in the documentation: http://pandas.pydata.org/pandas-docs/stable/indexing.html#indexing-view-versus-copy\n",
      "  \n"
     ]
    }
   ],
   "source": [
    "df18.dropna(how = 'all', inplace=True)\n",
    "df18.dropna(subset=['LATITUDE', 'LONGITUDE'], how = 'any', inplace=True)\n",
    "df18.reset_index(inplace = True)"
   ]
  },
  {
   "cell_type": "markdown",
   "metadata": {},
   "source": [
    "For the heatmap visualisation we will use only fatal accidents  "
   ]
  },
  {
   "cell_type": "code",
   "execution_count": 351,
   "metadata": {},
   "outputs": [],
   "source": [
    "df18_killed= df18[(df18['NUMBER OF PERSONS KILLED'] > 0)]"
   ]
  },
  {
   "cell_type": "code",
   "execution_count": 356,
   "metadata": {},
   "outputs": [],
   "source": [
    "heat_data = [[row['LATITUDE'], row['LONGITUDE']] for index, row in df18_killed.iterrows()]"
   ]
  },
  {
   "cell_type": "markdown",
   "metadata": {},
   "source": [
    "Now we can create map in Folium."
   ]
  },
  {
   "cell_type": "markdown",
   "metadata": {},
   "source": [
    "NYC coordinates (LAT, LONG)"
   ]
  },
  {
   "cell_type": "code",
   "execution_count": 352,
   "metadata": {},
   "outputs": [],
   "source": [
    "man_coordinates = (40.7218, -73.9998)"
   ]
  },
  {
   "cell_type": "code",
   "execution_count": 357,
   "metadata": {},
   "outputs": [],
   "source": [
    "map = folium.Map(location=man_coordinates, zoom_start=12)"
   ]
  },
  {
   "cell_type": "code",
   "execution_count": 358,
   "metadata": {
    "scrolled": true
   },
   "outputs": [
    {
     "data": {
      "text/plain": [
       "<folium.plugins.heat_map.HeatMap at 0x17d1f3669e8>"
      ]
     },
     "execution_count": 358,
     "metadata": {},
     "output_type": "execute_result"
    }
   ],
   "source": [
    "HeatMap(heat_data).add_to(map)"
   ]
  },
  {
   "cell_type": "code",
   "execution_count": 359,
   "metadata": {},
   "outputs": [
    {
     "data": {
      "text/html": [
       "<div style=\"width:100%;\"><div style=\"position:relative;width:100%;height:0;padding-bottom:60%;\"><iframe src=\"data:text/html;charset=utf-8;base64,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\" style=\"position:absolute;width:100%;height:100%;left:0;top:0;border:none !important;\" allowfullscreen webkitallowfullscreen mozallowfullscreen></iframe></div></div>"
      ],
      "text/plain": [
       "<folium.folium.Map at 0x17d1f366518>"
      ]
     },
     "execution_count": 359,
     "metadata": {},
     "output_type": "execute_result"
    }
   ],
   "source": [
    "map"
   ]
  },
  {
   "cell_type": "code",
   "execution_count": 360,
   "metadata": {},
   "outputs": [],
   "source": [
    "map.save('nymvc_heatmap.html')"
   ]
  }
 ],
 "metadata": {
  "kernelspec": {
   "display_name": "Python 3",
   "language": "python",
   "name": "python3"
  },
  "language_info": {
   "codemirror_mode": {
    "name": "ipython",
    "version": 3
   },
   "file_extension": ".py",
   "mimetype": "text/x-python",
   "name": "python",
   "nbconvert_exporter": "python",
   "pygments_lexer": "ipython3",
   "version": "3.6.5"
  }
 },
 "nbformat": 4,
 "nbformat_minor": 2
}
